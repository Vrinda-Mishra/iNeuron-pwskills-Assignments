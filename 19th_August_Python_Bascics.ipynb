{
 "cells": [
  {
   "cell_type": "markdown",
   "id": "614fb6f2-d046-486e-9cf1-da672162f341",
   "metadata": {},
   "source": [
    "TOPIC: Python Basics Variable"
   ]
  },
  {
   "cell_type": "markdown",
   "id": "95d98ed9-3355-4c49-9682-22038764d5ea",
   "metadata": {},
   "source": [
    "1. Declare two variables, `x` and `y`, and assign them integer values.\n",
    "Swap the values of these variables without using any temporary\n",
    "variable.\n"
   ]
  },
  {
   "cell_type": "code",
   "execution_count": 21,
   "id": "c1ab8564-8d9e-4c4d-a703-16129a44c6c4",
   "metadata": {},
   "outputs": [
    {
     "name": "stdout",
     "output_type": "stream",
     "text": [
      "Value of x is 15 and y is 10 after swapping\n"
     ]
    }
   ],
   "source": [
    "#Declaring variables x and y and assigning them values\n",
    "x,y=10,15\n",
    "\n",
    "'''Swapping without using temp. var\n",
    "   eg:- x=10+15=25\n",
    "        y=25-15=10\n",
    "        x=25-10=15'''\n",
    "\n",
    "x=x+y\n",
    "y=x-y\n",
    "x=x-y\n",
    "\n",
    "print(\"Value of x is\", x, \"and y is\", y ,\"after swapping\")"
   ]
  },
  {
   "cell_type": "markdown",
   "id": "b022ca86-a92b-4e13-982e-7f0922ca17b4",
   "metadata": {},
   "source": [
    "2. Create a program that calculates the area of a rectangle. Take the\n",
    "length and width as inputs from the user and store them in variables.\n",
    "Calculate and display the area."
   ]
  },
  {
   "cell_type": "code",
   "execution_count": 18,
   "id": "dca090f3-fb65-49af-88a4-8e945b47bb50",
   "metadata": {},
   "outputs": [
    {
     "name": "stdin",
     "output_type": "stream",
     "text": [
      "Enter length of Rectangle for calculation of its Area 34\n",
      "Enter width of Rectangle for calculation of its Area 121\n"
     ]
    },
    {
     "name": "stdout",
     "output_type": "stream",
     "text": [
      "The Area of Rectangle is:  4114.0 sq. units\n"
     ]
    }
   ],
   "source": [
    "# Taking input from the user\n",
    "length= float(input(\"Enter length of Rectangle for calculation of its Area\"))\n",
    "width= float(input(\"Enter width of Rectangle for calculation of its Area\"))\n",
    "\n",
    "#applying formula for area of rectangle\n",
    "area= length * width\n",
    "\n",
    "print(\"The Area of Rectangle is: \",area, \"sq. units\")"
   ]
  },
  {
   "cell_type": "markdown",
   "id": "12ce1168-aee2-4d75-b759-d48ab9e06d20",
   "metadata": {},
   "source": [
    "3. Write a Python program that converts temperature from Celsius to\n",
    "Fahrenheit. Take the temperature in Celsius as input, store it in a\n",
    "variable, convert it to Fahrenheit, and display the result."
   ]
  },
  {
   "cell_type": "code",
   "execution_count": 20,
   "id": "a0679d4b-4792-41d3-b3e7-5a7a31c6a49c",
   "metadata": {},
   "outputs": [
    {
     "name": "stdin",
     "output_type": "stream",
     "text": [
      "Enter the temperature in Celsius to convert to Fahrenheit 32.6\n"
     ]
    },
    {
     "name": "stdout",
     "output_type": "stream",
     "text": [
      "32.6 Converted to Fahrenheit is: 90.68\n"
     ]
    }
   ],
   "source": [
    "# Taking input from the user\n",
    "temp_cel= float(input(\"Enter the temperature in Celsius to convert to Fahrenheit\"))\n",
    "\n",
    "#Using conversion formula\n",
    "temp_Fahren= 32+ (temp_cel*(9/5))\n",
    "\n",
    "print(temp_cel, \"Converted to Fahrenheit is:\", temp_Fahren)"
   ]
  },
  {
   "cell_type": "markdown",
   "id": "a8ef7ef0-0b26-47a1-8773-d5afc505130b",
   "metadata": {},
   "source": [
    "\n",
    "\n",
    "\n",
    "TOPIC: String Based Questions"
   ]
  },
  {
   "cell_type": "markdown",
   "id": "81e14211-8df6-4329-a266-42461b2b2973",
   "metadata": {},
   "source": [
    "1. Write a Python program that takes a string as input and prints the\n",
    "length of the string."
   ]
  },
  {
   "cell_type": "code",
   "execution_count": 29,
   "id": "e996c949-214f-4161-8868-df6924d07cd0",
   "metadata": {},
   "outputs": [
    {
     "name": "stdin",
     "output_type": "stream",
     "text": [
      "Enter a string : Vrinda\n"
     ]
    },
    {
     "name": "stdout",
     "output_type": "stream",
     "text": [
      "Length of the string is: 5\n"
     ]
    }
   ],
   "source": [
    "# Taking input from the user\n",
    "in_string = input(\"Enter a string :\")\n",
    "\n",
    "print(\"Length of the string is:\", len(input_string))"
   ]
  },
  {
   "cell_type": "markdown",
   "id": "e8fe692d-8f32-4a30-807c-f1b502d9dc43",
   "metadata": {},
   "source": [
    "2. Create a program that takes a sentence from the user and counts the\n",
    "number of vowels (a, e, i, o, u) in the string"
   ]
  },
  {
   "cell_type": "code",
   "execution_count": 36,
   "id": "2f237cd8-9d5a-40a7-b861-be57c3aafcba",
   "metadata": {},
   "outputs": [
    {
     "name": "stdin",
     "output_type": "stream",
     "text": [
      "Enter a sentence No worries please\n"
     ]
    },
    {
     "name": "stdout",
     "output_type": "stream",
     "text": [
      "The number of vowels found are: 7\n"
     ]
    }
   ],
   "source": [
    "# Taking input from the user\n",
    "in_sent=input(\"Enter a sentence\")\n",
    "\n",
    "#initializing count as 0\n",
    "count_vo=0\n",
    "\n",
    "#looping to check if input string contain vowels or not\n",
    "for c in in_sent:\n",
    "    if c in 'aeiou':\n",
    "        count_vo +=1\n",
    "        \n",
    "print(\"The number of vowels found are:\", count_vo)"
   ]
  },
  {
   "cell_type": "markdown",
   "id": "6ccd5a4e-bff1-4067-befe-270f11165187",
   "metadata": {},
   "source": [
    "3. Given a string, reverse the order of characters using string slicing and\n",
    "print the reversed string."
   ]
  },
  {
   "cell_type": "code",
   "execution_count": 28,
   "id": "d6910e06-1a05-4053-ac87-a7f2f99822e5",
   "metadata": {},
   "outputs": [
    {
     "name": "stdout",
     "output_type": "stream",
     "text": [
      "Reversed String is: tebahplA\n"
     ]
    }
   ],
   "source": [
    "#taking input\n",
    "#in_str=input(\"Enter a String to reverse\")\n",
    "\n",
    "Given_str= \"Alphabet\"\n",
    "\n",
    "#using slicing to reverse the string str[start:end:jump]\n",
    "print(\"Reversed String is:\",Given_str[::-1])\n",
    "#OR in_str[len(in_str)-1::-1]\n"
   ]
  },
  {
   "cell_type": "markdown",
   "id": "a7b91499-f070-47ba-9997-4930167d6709",
   "metadata": {},
   "source": [
    "4. Write a program that takes a string as input and checks if it is a\n",
    "palindrome (reads the same forwards and backwards).\n"
   ]
  },
  {
   "cell_type": "code",
   "execution_count": 25,
   "id": "40a96dd2-3ca6-4970-8856-111ff4a0e765",
   "metadata": {},
   "outputs": [
    {
     "name": "stdin",
     "output_type": "stream",
     "text": [
      "Enter a string:  Helleh\n"
     ]
    },
    {
     "name": "stdout",
     "output_type": "stream",
     "text": [
      "The String is a palindrome.\n"
     ]
    }
   ],
   "source": [
    "# Taking input from the user\n",
    "in_string1 = input(\"Enter a string: \")\n",
    "\n",
    "# Removing spaces and converting the string to lowercase for comparison\n",
    "new_string = in_string1.replace(\" \", \"\").lower()\n",
    "\n",
    "# Reversing the cleaned string\n",
    "reversed_string = new_string[::-1]\n",
    "\n",
    "# Checking if the string is a palindrome\n",
    "if new_string == reversed_string:\n",
    "    print(\"The String is a palindrome.\")\n",
    "else:\n",
    "    print(\"The String is not a palindrome.\")"
   ]
  },
  {
   "cell_type": "markdown",
   "id": "4c1db3a7-b97e-4c66-9a19-27486cfd321b",
   "metadata": {},
   "source": [
    "5. Create a program that takes a string as input and removes all the\n",
    "spaces from it. Print the modified string without spaces."
   ]
  },
  {
   "cell_type": "code",
   "execution_count": 27,
   "id": "0a713a82-c7b8-440c-8301-04d99c6fa80d",
   "metadata": {},
   "outputs": [
    {
     "name": "stdin",
     "output_type": "stream",
     "text": [
      "Enter a string:  Hello you !\n"
     ]
    },
    {
     "name": "stdout",
     "output_type": "stream",
     "text": [
      "String is: Helloyou!\n"
     ]
    }
   ],
   "source": [
    "in_string2 = input(\"Enter a string: \")\n",
    "\n",
    "# Removing spaces \n",
    "new_string = in_string2.replace(\" \", \"\")\n",
    "\n",
    "print(\"String is:\", new_string)"
   ]
  },
  {
   "cell_type": "code",
   "execution_count": null,
   "id": "80d1c553-0ec5-4093-9a22-cf476e98de76",
   "metadata": {},
   "outputs": [],
   "source": []
  },
  {
   "cell_type": "code",
   "execution_count": null,
   "id": "2e469497-93cb-45ea-8aaa-1ad743ed8e82",
   "metadata": {},
   "outputs": [],
   "source": []
  },
  {
   "cell_type": "code",
   "execution_count": null,
   "id": "9c10c24b-92b6-4cbd-a5c6-0f91c07c71a7",
   "metadata": {},
   "outputs": [],
   "source": []
  }
 ],
 "metadata": {
  "kernelspec": {
   "display_name": "Python 3 (ipykernel)",
   "language": "python",
   "name": "python3"
  },
  "language_info": {
   "codemirror_mode": {
    "name": "ipython",
    "version": 3
   },
   "file_extension": ".py",
   "mimetype": "text/x-python",
   "name": "python",
   "nbconvert_exporter": "python",
   "pygments_lexer": "ipython3",
   "version": "3.10.8"
  }
 },
 "nbformat": 4,
 "nbformat_minor": 5
}
